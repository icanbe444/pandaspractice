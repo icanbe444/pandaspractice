{
 "cells": [
  {
   "cell_type": "code",
   "execution_count": 42,
   "id": "304fc040-661d-4c24-8936-323c383ad081",
   "metadata": {},
   "outputs": [],
   "source": [
    "import os, shutil"
   ]
  },
  {
   "cell_type": "code",
   "execution_count": 43,
   "id": "e21b7af6-7cf4-4b63-8248-3d2086d2b891",
   "metadata": {},
   "outputs": [],
   "source": [
    "path = r\"/Users/pro/Desktop/GHMT/\""
   ]
  },
  {
   "cell_type": "code",
   "execution_count": 44,
   "id": "c084df3d-18b7-4ae5-afe1-54b57fe0d3ee",
   "metadata": {},
   "outputs": [],
   "source": [
    "file_name = os.listdir(path)"
   ]
  },
  {
   "cell_type": "code",
   "execution_count": 45,
   "id": "169779c9-10bb-4f77-9a74-4a896fae5766",
   "metadata": {},
   "outputs": [],
   "source": [
    "folder_names = ['csv files', 'image files', 'zip files', 'php files', 'xlsx files']\n",
    "for loop in range (0,5):\n",
    "    if not os.path.exists(path + folder_names[loop]):\n",
    "        os.makedirs(path + folder_names[loop])\n",
    "for file in file_name:\n",
    "    try: \n",
    "        if \".csv\" in file and not os.path.exists(path +  \"csv files/\" + file):\n",
    "            shutil.move(path + file,  path + \"csv files/\" + file)\n",
    "        elif \".png\" in file and not os.path.exists(path +  \"image files/\" + file):\n",
    "            shutil.move(path + file, path +  \"image files/\" + file)\n",
    "        elif \".zip\" in file and not os.path.exists(path +  \"zip files/\" + file):\n",
    "            shutil.move(path + file,  path + \"zip files/\" + file)\n",
    "        elif \".php\" in file and not os.path.exists(path +  \"php files/\" + file):\n",
    "            shutil.move(path + file, path +  \"php files/\" + file)\n",
    "        elif \".xlsx\" in file and not os.path.exists(path +  \"xlsx files/\" + file):\n",
    "            shutil.move(path + file, path +  \"xlsx files/\" + file)\n",
    "    except FileNotFoundError: \n",
    "        print(\"File does not exist\")"
   ]
  },
  {
   "cell_type": "code",
   "execution_count": 41,
   "id": "bf68a10c-0de1-42a4-a9ad-212f78824e41",
   "metadata": {},
   "outputs": [],
   "source": []
  },
  {
   "cell_type": "code",
   "execution_count": null,
   "id": "a17403da-a201-4eb5-a562-a2614a4a8ba4",
   "metadata": {},
   "outputs": [],
   "source": []
  },
  {
   "cell_type": "code",
   "execution_count": null,
   "id": "8fe1ec7e-95bd-402c-a262-031872f9a3a8",
   "metadata": {},
   "outputs": [],
   "source": []
  }
 ],
 "metadata": {
  "kernelspec": {
   "display_name": "Python 3 (ipykernel)",
   "language": "python",
   "name": "python3"
  },
  "language_info": {
   "codemirror_mode": {
    "name": "ipython",
    "version": 3
   },
   "file_extension": ".py",
   "mimetype": "text/x-python",
   "name": "python",
   "nbconvert_exporter": "python",
   "pygments_lexer": "ipython3",
   "version": "3.12.5"
  }
 },
 "nbformat": 4,
 "nbformat_minor": 5
}
