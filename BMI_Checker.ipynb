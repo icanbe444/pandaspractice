{
 "cells": [
  {
   "cell_type": "code",
   "execution_count": 9,
   "id": "53617f98-d8e9-4d35-8a17-eb9b473b1af8",
   "metadata": {},
   "outputs": [
    {
     "name": "stdin",
     "output_type": "stream",
     "text": [
      "Enter your name:   Akanbi\n",
      "Please enter your weigh in pounds:   144\n",
      "Please enter your height in inches:   66\n"
     ]
    },
    {
     "name": "stdout",
     "output_type": "stream",
     "text": [
      "23.239669421487605\n",
      " You are normnal weight\n"
     ]
    }
   ],
   "source": [
    "name = input(\"Enter your name:  \")\n",
    "weight= float(input(\"Please enter your weigh in pounds:  \"))\n",
    "height = float(input(\"Please enter your height in inches:  \"))\n",
    "\n",
    "BMI = (weight * 703 / (height * height))\n",
    "print(BMI)\n",
    "\n",
    "if BMI > 0:\n",
    "    if (BMI < 18.5) :\n",
    "        print(\"You are underweight\")\n",
    "    elif (BMI <= 24.9): \n",
    "        print(\" You are normnal weight\")\n",
    "    elif (BMI <= 29.9): \n",
    "        print(\" You are over weight\")\n",
    "    elif (BMI <= 34.9): \n",
    "        print(\" You are obese\")\n",
    "    elif (BMI <= 39.9): \n",
    "        print(\" You are severly obese\")\n",
    "    \n",
    "    else:\n",
    "        print(\"You are morbidly obese\")    \n",
    "else:\n",
    "    print(\"Enter a valid input\")"
   ]
  },
  {
   "cell_type": "code",
   "execution_count": null,
   "id": "ef87bcb8-57e5-4707-bfaf-18bd75446e35",
   "metadata": {},
   "outputs": [],
   "source": []
  }
 ],
 "metadata": {
  "kernelspec": {
   "display_name": "Python 3 (ipykernel)",
   "language": "python",
   "name": "python3"
  },
  "language_info": {
   "codemirror_mode": {
    "name": "ipython",
    "version": 3
   },
   "file_extension": ".py",
   "mimetype": "text/x-python",
   "name": "python",
   "nbconvert_exporter": "python",
   "pygments_lexer": "ipython3",
   "version": "3.12.5"
  }
 },
 "nbformat": 4,
 "nbformat_minor": 5
}
